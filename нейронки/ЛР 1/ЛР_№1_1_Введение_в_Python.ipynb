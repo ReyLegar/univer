{
  "cells": [
    {
      "cell_type": "markdown",
      "metadata": {
        "id": "2cN4ylsfdSe7"
      },
      "source": [
        "# Введение в Python"
      ]
    },
    {
      "cell_type": "markdown",
      "metadata": {
        "id": "QmSHo1uzdSe7"
      },
      "source": [
        "Этот блокнот содержит некоторые упражнения по программированию, которые дадут Вамзнания и навыки, требующиеся для последующих занятий курса. Не бойтесь делать ошибки. Нет ничего страшного в ошибках в процессе создания программ. Важно научиться понимать и исправлять свои ошибки. Если у Вас возникнут затруднения при выполнении последующих упражнений, попробуйте найти решение проблемы в Интернете или спросите совета у других обучающихся и преподавателя.  \n"
      ]
    },
    {
      "cell_type": "markdown",
      "metadata": {
        "id": "9vLDu6jVdSe7"
      },
      "source": [
        "**Списки** - это тип переменных в Python, позволяющий хранить более чем одно значение. \n",
        "\n",
        "Прежде чем мы начнем программировать, вот несколько важных особенностей списков:\n",
        "1. Списки помещаются в квадратные скобки []\n",
        "2. Списки могут содержать в себе строки, числа (целые и вещественные), логические переменные, а также любые сочетания перечисленных типов переменных.\n",
        "3. Внутри списка элементы разделяются между собой запятыми ,\n",
        "\n",
        "Держа в памяти эти три особенности, давайте приступим к программированию!\n",
        "Посмотрите на несколько ячеек кода ниже и попробуйте их запустить. "
      ]
    },
    {
      "cell_type": "code",
      "execution_count": null,
      "metadata": {
        "colab": {
          "base_uri": "https://localhost:8080/"
        },
        "id": "rGwsDP_WdSe7",
        "outputId": "72b93cea-0d34-4002-ad84-874932078170",
        "scrolled": false
      },
      "outputs": [
        {
          "name": "stdout",
          "output_type": "stream",
          "text": [
            "Empty List:  []\n"
          ]
        }
      ],
      "source": [
        "# Создайте пустой список \n",
        "sampleList = []\n",
        "print (\"Empty List: \", sampleList)"
      ]
    },
    {
      "cell_type": "code",
      "execution_count": null,
      "metadata": {
        "colab": {
          "base_uri": "https://localhost:8080/"
        },
        "id": "gfWB8LRBdSe8",
        "outputId": "5b5d559f-1976-4014-e5f8-500682123800"
      },
      "outputs": [
        {
          "name": "stdout",
          "output_type": "stream",
          "text": [
            "Bob должен появиться в списке: ['Bob', 'Bob']\n"
          ]
        }
      ],
      "source": [
        "#.append() является методом списков, позволяющим добавлять новый элемент\n",
        "sampleList.append(\"Bob\")\n",
        "print (\"Bob должен появиться в списке:\", sampleList)"
      ]
    },
    {
      "cell_type": "code",
      "execution_count": null,
      "metadata": {
        "colab": {
          "base_uri": "https://localhost:8080/"
        },
        "id": "6YEpv-TwdSe8",
        "outputId": "3b03d8f3-c82f-4e09-c4f5-9692d05d8c42"
      },
      "outputs": [
        {
          "name": "stdout",
          "output_type": "stream",
          "text": [
            "Список может содержать в себе различные типы данных. Элементы списка разделяются запятыми:  ['Bob', 'Bob', False, 9, 10.5]\n"
          ]
        }
      ],
      "source": [
        "# Список может включать строки, числа, логические переменные и их комбинации\n",
        "sampleList.append(False)\n",
        "sampleList.append(9)\n",
        "sampleList.append(10.5)\n",
        "print (\"Список может содержать в себе различные типы данных. Элементы списка разделяются запятыми: \", sampleList)"
      ]
    },
    {
      "cell_type": "markdown",
      "metadata": {
        "id": "FMAv2z_-dSe9"
      },
      "source": [
        "А вот и практическое задание!\n",
        "1. Пусть числа 4, 1, 5, 7 будут значениями списка X1 в следующей ячейке кода.\n",
        "2. Затем измените третье число с 5 на 10. Выведите на экран переменную X1, чтобы убедиться, что замена прошла успешно.\n",
        "3. Добавьте по 2 ко всем элементам списка. Снова выведите X1."
      ]
    },
    {
      "cell_type": "code",
      "execution_count": null,
      "metadata": {
        "colab": {
          "base_uri": "https://localhost:8080/"
        },
        "id": "AKCvy-NEdSe9",
        "outputId": "4b47189e-9267-4153-8ff7-a836e90a784f"
      },
      "outputs": [
        {
          "name": "stdout",
          "output_type": "stream",
          "text": [
            "[4, 1, 5, 7]\n",
            "[4, 1, 10, 7]\n",
            "[6, 3, 12, 9]\n"
          ]
        }
      ],
      "source": [
        "# Задание: Присвойте значения (4,1,5,7) списку X1.\n",
        "X1 = [4, 1, 5, 7]\n",
        "print(X1)\n",
        "# Задание: Замените третьий элемент списка (10 вместо 5) и выведите список на экран. \n",
        "X1[2] = 10\n",
        "\n",
        "print(X1)\n",
        "\n",
        "# Задание: Прибавьте по 2 к каждому элементу списка (Подсказка: Используйте цикл for!)\n",
        "for i in range(len(X1)):\n",
        "  X1[i] += 2\n",
        "\n",
        "print(X1)"
      ]
    },
    {
      "cell_type": "markdown",
      "metadata": {
        "id": "eVGSVsfEdSe9"
      },
      "source": [
        "Должно получиться так:\n",
        "1. [4, 1, 5, 7]\n",
        "2. [4, 1, 10, 7]\n",
        "3. [6, 3, 12, 9]"
      ]
    },
    {
      "cell_type": "markdown",
      "metadata": {
        "id": "IU0FDcl2dSe9"
      },
      "source": [
        "Попробуем применить только что изученные основы статистики в программировании на Python.\n",
        "Вот еще одно задание!\n",
        "1. Найдите среднее арифметическое для представленных ниже значений.\n",
        "2. Найдите также медиану.\n",
        "3. И моду.\n",
        "\n",
        "Поднимите руку, когда закончите это упражнение, чтобы преподаватель проверил Ваш код!\n",
        "После этого можете помочь другим, но не давайте им готового решения!"
      ]
    },
    {
      "cell_type": "code",
      "execution_count": null,
      "metadata": {
        "colab": {
          "base_uri": "https://localhost:8080/"
        },
        "id": "7eu5rQB2dSe9",
        "outputId": "fec3be28-1c9d-49c0-cdac-9429cf016e40"
      },
      "outputs": [
        {
          "name": "stdout",
          "output_type": "stream",
          "text": [
            "14\n",
            "93\n",
            "6.642857142857143\n"
          ]
        }
      ],
      "source": [
        "# Вот набор значений для задания:\n",
        "dataset = [2, 1, 1, 4, 5, 8, 12, 4, 3, 8, 21, 1, 18, 5]\n",
        "\n",
        "# Задание: Найдите среднее арифметическое значение.\n",
        "# Шаг 1: Найдите количество элементов в списке.\n",
        "number_of_items = len(dataset)\n",
        "print(number_of_items)\n",
        "\n",
        "# Шаг 2: Найдите сумму элементов списка. Попробуйте сделать это с помощью цикла. \n",
        "sum_of_items = 0\n",
        "for i in range(len(dataset)):\n",
        "  sum_of_items += dataset[i]\n",
        "print(sum_of_items)\n",
        "\n",
        "# Шаг 3: Найдите среднее арифметическое\n",
        "mean = sum_of_items / number_of_items\n",
        "print(mean)"
      ]
    },
    {
      "cell_type": "code",
      "execution_count": null,
      "metadata": {
        "colab": {
          "base_uri": "https://localhost:8080/"
        },
        "id": "ywE0jBhPdSe-",
        "outputId": "7ec344e1-53dd-46bc-e353-5e4439f2b70e"
      },
      "outputs": [
        {
          "name": "stdout",
          "output_type": "stream",
          "text": [
            "[1, 1, 1, 2, 3, 4, 4, 5, 5, 8, 8, 12, 18, 21]\n",
            "7\n",
            "4.5\n"
          ]
        }
      ],
      "source": [
        "# Задание: Найдите медиану для значений списка dataset. (Подсказка: Отсортируйте элементы списка в порядке возрастания)\n",
        "# Шаг 1: Отсортируйте элементы списка в порядке возрастания, например, (1,1,1,2,3,4,4,5,5,8,8,12,18,21)\n",
        "\n",
        "dataset = sorted(dataset)\n",
        "print(dataset)\n",
        "\n",
        "# Шаг 2: Найдите индекс (порядковый номер) среднего элемента списка\n",
        "middle_index = len(dataset) // 2\n",
        "print (middle_index)\n",
        "\n",
        "# Шаг 3: Найдите медиану\n",
        "if len(dataset) % 2 == 0:\n",
        "  median = (dataset[middle_index] + dataset[middle_index - 1]) / 2\n",
        "else:\n",
        "  median = dataset[middle_index]\n",
        "\n",
        "print (median)"
      ]
    },
    {
      "cell_type": "code",
      "execution_count": null,
      "metadata": {
        "colab": {
          "base_uri": "https://localhost:8080/"
        },
        "id": "qJEz7AKbdSe-",
        "outputId": "6046af20-895d-4a24-db5b-df44377118fb"
      },
      "outputs": [
        {
          "name": "stdout",
          "output_type": "stream",
          "text": [
            "1\n"
          ]
        }
      ],
      "source": [
        "# Задание: Найдите моду. (Подсказка: Используйте функцию max())\n",
        "mode = max(dataset, key=dataset.count)\n",
        "print (mode)"
      ]
    },
    {
      "cell_type": "code",
      "execution_count": null,
      "metadata": {
        "colab": {
          "base_uri": "https://localhost:8080/"
        },
        "id": "JhhbFlLhdSe-",
        "outputId": "de321c48-e55b-46a8-ee10-f12e43a5b76b"
      },
      "outputs": [
        {
          "name": "stdout",
          "output_type": "stream",
          "text": [
            "1\n"
          ]
        }
      ],
      "source": [
        "B = []\n",
        "for i in range(len(dataset)):\n",
        "  B.append(dataset.count(dataset[i]))\n",
        "moda = dataset[B.index(max(B))]\n",
        "print(moda)"
      ]
    },
    {
      "cell_type": "code",
      "execution_count": null,
      "metadata": {
        "id": "ng6j-ZnBgrWW"
      },
      "outputs": [],
      "source": []
    }
  ],
  "metadata": {
    "colab": {
      "provenance": []
    },
    "kernelspec": {
      "display_name": "Python 3",
      "language": "python",
      "name": "python3"
    },
    "language_info": {
      "codemirror_mode": {
        "name": "ipython",
        "version": 3
      },
      "file_extension": ".py",
      "mimetype": "text/x-python",
      "name": "python",
      "nbconvert_exporter": "python",
      "pygments_lexer": "ipython3",
      "version": "3.10.9"
    },
    "vscode": {
      "interpreter": {
        "hash": "854e07a9a733891f0ca3cdde5ad6770f4aa4330c8665a921a3ac95924dbae5a3"
      }
    }
  },
  "nbformat": 4,
  "nbformat_minor": 0
}
