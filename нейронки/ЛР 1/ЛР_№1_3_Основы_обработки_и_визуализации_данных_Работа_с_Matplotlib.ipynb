{
  "cells": [
    {
      "cell_type": "markdown",
      "metadata": {
        "id": "0OxzxV_J09lp"
      },
      "source": [
        "# Основы обработки и визуализации данных"
      ]
    },
    {
      "cell_type": "markdown",
      "metadata": {
        "id": "0KS9zF6J09lr"
      },
      "source": [
        "После импорта набора данных мы должны иметь возможность разобраться в данных, прежде чем можно будет применить какие-либо алгоритмы машинного обучения. Для этого мы должны использовать базовую статистику и простые графики. Из этого блокнота Вы узнаете, как понимать базовую статистику и использовать функции Matplotlib для построения простых графиков. Убедитесь, что у Вас установлена библиотека Matplotlib, прежде чем продолжить работу с блокнотом. Для этого наберите \"! pip freeze\"."
      ]
    },
    {
      "cell_type": "code",
      "execution_count": 1,
      "metadata": {
        "id": "P75fuoyj09lt"
      },
      "outputs": [
        {
          "name": "stdout",
          "output_type": "stream",
          "text": [
            "amqp==5.1.1\n",
            "asttokens==2.2.1\n",
            "async-timeout==4.0.2\n",
            "backcall==0.2.0\n",
            "beautifulsoup4==4.11.2\n",
            "billiard==3.6.4.0\n",
            "celery==5.2.7\n",
            "certifi==2022.12.7\n",
            "chardet==5.1.0\n",
            "charset-normalizer==3.0.1\n",
            "click==8.1.3\n",
            "click-didyoumean==0.3.0\n",
            "click-plugins==1.1.1\n",
            "click-repl==0.2.0\n",
            "clickhouse-driver==0.2.5\n",
            "colab==1.13.5\n",
            "colorama==0.4.6\n",
            "comm==0.1.2\n",
            "contourpy==1.0.7\n",
            "cssselect==1.2.0\n",
            "cycler==0.11.0\n",
            "debugpy==1.6.5\n",
            "decorator==5.1.1\n",
            "diazo==1.5.0\n",
            "dill==0.3.6\n",
            "Django==1.7.11\n",
            "django-haystack==2.4.1\n",
            "django-hitcounter==0.1.1\n",
            "django-revproxy==0.10.0\n",
            "django-taggit==0.22.2\n",
            "entrypoints==0.4\n",
            "etiquetando==0.1\n",
            "executing==1.2.0\n",
            "Faker==16.6.0\n",
            "fonttools==4.38.0\n",
            "google==3.0.0\n",
            "html2text==2020.1.16\n",
            "idna==3.4\n",
            "ipykernel==6.20.2\n",
            "ipython==8.8.0\n",
            "ipywidgets==8.0.4\n",
            "jedi==0.18.2\n",
            "joblib==1.2.0\n",
            "jupyter_client==7.4.9\n",
            "jupyter_core==5.1.3\n",
            "jupyterlab-widgets==3.0.5\n",
            "kiwisolver==1.4.4\n",
            "kombu==5.2.4\n",
            "lxml==4.9.2\n",
            "matplotlib==3.6.3\n",
            "matplotlib-inline==0.1.6\n",
            "mimesis==7.0.0\n",
            "multiprocess==0.70.14\n",
            "nest-asyncio==1.5.6\n",
            "numpy==1.24.1\n",
            "packaging==23.0\n",
            "pandas==1.5.3\n",
            "parso==0.8.3\n",
            "pickleshare==0.7.5\n",
            "Pillow==9.4.0\n",
            "platformdirs==2.6.2\n",
            "plotly==5.13.0\n",
            "prompt-toolkit==3.0.36\n",
            "psutil==5.9.4\n",
            "pure-eval==0.2.2\n",
            "Pygments==2.14.0\n",
            "pyparsing==3.0.9\n",
            "python-dateutil==2.8.2\n",
            "pytz==2022.7.1\n",
            "pytz-deprecation-shim==0.1.0.post0\n",
            "pywin32==305\n",
            "PyYAML==6.0\n",
            "pyzmq==25.0.0\n",
            "redis==4.5.1\n",
            "repoze.lru==0.7\n",
            "requests==2.28.2\n",
            "scipy==1.10.0\n",
            "six==1.16.0\n",
            "soupsieve==2.3.2.post1\n",
            "stack-data==0.6.2\n",
            "stemming==1.0.1\n",
            "tenacity==8.2.1\n",
            "tornado==6.2\n",
            "tqdm==4.64.1\n",
            "traitlets==5.8.1\n",
            "tzdata==2022.7\n",
            "tzlocal==4.2\n",
            "urllib3==1.26.14\n",
            "vine==5.0.0\n",
            "wcwidth==0.2.6\n",
            "Whoosh==2.7.4\n",
            "widgetsnbextension==4.0.5\n",
            "xgboost==1.7.3\n"
          ]
        }
      ],
      "source": [
        "#Введите Ваш код\n",
        "! pip freeze"
      ]
    },
    {
      "cell_type": "markdown",
      "metadata": {
        "id": "8_e2SQjM09lt"
      },
      "source": [
        "# Базовая статистика"
      ]
    },
    {
      "cell_type": "markdown",
      "metadata": {
        "id": "hLlXmJ8j09lt"
      },
      "source": [
        "Импортируйте необходимые библиотеки в ячейке кода ниже. Как правило, мы импортируем все необходимые библиотеки в начале блокнота, поэтому нам не нужно повторно запускать весь блокнот, если мы хотим включить дополнительные библиотеки. Две библиотеки, необходимые в этом блокноте, помогут структурировать и визуализировать данные."
      ]
    },
    {
      "cell_type": "code",
      "execution_count": 2,
      "metadata": {
        "id": "k7-WXRog09lt"
      },
      "outputs": [],
      "source": [
        "#Введите Ваш код\n",
        "import matplotlib.pyplot as plt\n",
        "import pandas as pd"
      ]
    },
    {
      "cell_type": "markdown",
      "metadata": {
        "id": "cnOturHz09lu"
      },
      "source": [
        "# 1. Использование функции pandas.describe() для получения результирующей статистики"
      ]
    },
    {
      "cell_type": "markdown",
      "metadata": {
        "id": "PfadaHWA09lu"
      },
      "source": [
        "Импортируйте ранее использованный набор данных Iris Flower в виде датафрейма с именем df и выведите результат метода .describe().\n",
        "\n",
        "Для этого необходимо открыть доступ к файлам Google Диска. Подробнее о работе с файлами на Google Диске через Colab описано в инструкции: https://docs.google.com/document/d/1AQUqdGPTKDAk-ytr7LTmuOSb4OooZORPkORzmqRh-l8/edit?usp=sharing"
      ]
    },
    {
      "cell_type": "code",
      "execution_count": 3,
      "metadata": {
        "id": "i7PoijW809lu"
      },
      "outputs": [
        {
          "ename": "ValueError",
          "evalue": "DataFrame constructor not properly called!",
          "output_type": "error",
          "traceback": [
            "\u001b[1;31m---------------------------------------------------------------------------\u001b[0m",
            "\u001b[1;31mValueError\u001b[0m                                Traceback (most recent call last)",
            "Cell \u001b[1;32mIn[3], line 2\u001b[0m\n\u001b[0;32m      1\u001b[0m \u001b[39m#Введите Ваш код\u001b[39;00m\n\u001b[1;32m----> 2\u001b[0m df \u001b[39m=\u001b[39m pd\u001b[39m.\u001b[39;49mDataFrame(data\u001b[39m=\u001b[39;49m\u001b[39m'\u001b[39;49m\u001b[39miris.data\u001b[39;49m\u001b[39m'\u001b[39;49m)\n\u001b[0;32m      3\u001b[0m df\n",
            "File \u001b[1;32mc:\\Users\\d.akishev\\AppData\\Local\\Programs\\Python\\Python311\\Lib\\site-packages\\pandas\\core\\frame.py:781\u001b[0m, in \u001b[0;36mDataFrame.__init__\u001b[1;34m(self, data, index, columns, dtype, copy)\u001b[0m\n\u001b[0;32m    778\u001b[0m \u001b[39m# For data is scalar\u001b[39;00m\n\u001b[0;32m    779\u001b[0m \u001b[39melse\u001b[39;00m:\n\u001b[0;32m    780\u001b[0m     \u001b[39mif\u001b[39;00m index \u001b[39mis\u001b[39;00m \u001b[39mNone\u001b[39;00m \u001b[39mor\u001b[39;00m columns \u001b[39mis\u001b[39;00m \u001b[39mNone\u001b[39;00m:\n\u001b[1;32m--> 781\u001b[0m         \u001b[39mraise\u001b[39;00m \u001b[39mValueError\u001b[39;00m(\u001b[39m\"\u001b[39m\u001b[39mDataFrame constructor not properly called!\u001b[39m\u001b[39m\"\u001b[39m)\n\u001b[0;32m    783\u001b[0m     index \u001b[39m=\u001b[39m ensure_index(index)\n\u001b[0;32m    784\u001b[0m     columns \u001b[39m=\u001b[39m ensure_index(columns)\n",
            "\u001b[1;31mValueError\u001b[0m: DataFrame constructor not properly called!"
          ]
        }
      ],
      "source": [
        "#Введите Ваш код"
      ]
    },
    {
      "cell_type": "markdown",
      "metadata": {
        "id": "0lYr-jJR09lu"
      },
      "source": [
        "Мы видим, что на выходе получаются значения для среднего, cреднеквадратического отклонения, минимального, первого, второго и третьего квартилей (25%, 50%, 75%) и максимального. Вы знаете,что значат эти значения? Кратко объясните эти значения ниже."
      ]
    },
    {
      "cell_type": "code",
      "execution_count": null,
      "metadata": {
        "id": "YiWnRd8j09lv"
      },
      "outputs": [],
      "source": [
        "#Введите Ваш ответ"
      ]
    },
    {
      "cell_type": "markdown",
      "metadata": {
        "id": "ZGLImPqD09lv"
      },
      "source": [
        "Эти базовые статистические данные важны, поскольку они говорят нам о распределении данных. Например, если у Вас очень небольшая разница между процентилем 50 и 25, но большая разница между процентилем 75 и 50, это будет предполагать, что распределение смещено в сторону больших значений. Однако сухие цифры могут быть трудными для понимания. Графики помогут нам визуализировать данные!"
      ]
    },
    {
      "cell_type": "markdown",
      "metadata": {
        "id": "vzDQY_Qo09lv"
      },
      "source": [
        "# 2. Диаграммы размаха"
      ]
    },
    {
      "cell_type": "markdown",
      "metadata": {
        "id": "iQ42R_ye09lv"
      },
      "source": [
        "Диаграммы размаха или коробчатые диаграммы или диаграммы ящиков с усами - полезные инструменты, помогающие визуализировать распределение данных. На диаграмме будут указаны процентильные значения, а также межквартильный диапазон (IQR). Кроме того, такая диаграмма также сможет определять потенциальные выбросы. Потенциальными выбросами будут значения больше 75-го процентиля + 1,5 (IQR) или ниже 25-го процентиля - 1,5 (IQR). Вы можете обратиться к рисунку ниже, чтобы понять, как читать коробчатую диаграмму. Кроме того, Вы можете посмотреть это видео, чтобы узнать больше о боксплотах. (https://www.youtube.com/watch?v=-nifeDLph9U)."
      ]
    },
    {
      "cell_type": "markdown",
      "metadata": {
        "id": "Xl4lMDEO09lv"
      },
      "source": [
        "![Box_Plot.PNG](data:image/png;base64,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)"
      ]
    },
    {
      "cell_type": "markdown",
      "metadata": {
        "id": "AQeS4Qey09lw"
      },
      "source": [
        "Давайте попробуем построить коробчатые диаграммы для импортированного набора данных Iris Flower. Используйте код ниже. Он построит коробчатую диаграмму для длины чашелистика в наборе данных. Выставление аргумента showfliers = True гарантирует, что выбросы будут отображаться на графике.\n",
        "\n",
        "<font color=blue> Подсказка: Если Вы столкнулись с проблемами при построении ящика с усами, вспомните о работе с заголовками датафрейма в предыдущем упражнении.</font>"
      ]
    },
    {
      "cell_type": "code",
      "execution_count": null,
      "metadata": {
        "id": "ZAHtJ-3X09lw"
      },
      "outputs": [],
      "source": [
        "plt.boxplot(df['sepal_length'],showfliers=True,labels=['sepal length'])\n",
        "plt.show();"
      ]
    },
    {
      "cell_type": "markdown",
      "metadata": {
        "id": "VBSyDSj_09lw"
      },
      "source": [
        "Можете ли вы объяснить на приведенной выше диаграмме, следует ли ожидать выбросов в переменной sepal_length?"
      ]
    },
    {
      "cell_type": "code",
      "execution_count": null,
      "metadata": {
        "id": "VTBatpJt09lw"
      },
      "outputs": [],
      "source": [
        "#Введите Ваш ответ"
      ]
    },
    {
      "cell_type": "markdown",
      "metadata": {
        "id": "Sop-Cleq09lw"
      },
      "source": [
        "Теперь Ваша очередь построить диаграмму размаха для переменных \"sepal_width\",\"petal_length\", \"petal_width\"."
      ]
    },
    {
      "cell_type": "code",
      "execution_count": null,
      "metadata": {
        "id": "VKRG-Qm-09lw"
      },
      "outputs": [],
      "source": [
        "#Введите Ваш код"
      ]
    },
    {
      "cell_type": "markdown",
      "metadata": {
        "id": "thw7vzVx09lx"
      },
      "source": [
        "Вы заметили, что в переменной ширины чашелистика потенциально могут быть выбросы? Кроме того, вы заметили, что распределение по длине и ширине лепестка может быть искажено? Это связано с тем, что медиана в обоих случаях ближе к верхнему краю прямоугольника, чем к его низу."
      ]
    },
    {
      "cell_type": "markdown",
      "metadata": {
        "id": "E8t95Pg509lx"
      },
      "source": [
        "<font color=blue>Бонус: можете ли вы построить все 4 коробчатых диаграммы, используя одну и ту же ось на одном рисунке? Вы можете попробовать метод .subplots() в matplotlib, чтобы сделать это.</font>"
      ]
    },
    {
      "cell_type": "code",
      "execution_count": null,
      "metadata": {
        "id": "mARWHxDk09lx"
      },
      "outputs": [],
      "source": [
        "#Введите Ваш код"
      ]
    },
    {
      "cell_type": "markdown",
      "metadata": {
        "id": "pniprwpU09lx"
      },
      "source": [
        "# 3. Гистограммы"
      ]
    },
    {
      "cell_type": "markdown",
      "metadata": {
        "id": "yaKX5aqC09lx"
      },
      "source": [
        "Как и коробчатые диаграммы, гистограммы также могут помочь Вам визуализировать распределение данных. Это также поможет увидеть, смещены ли данные в сторону высоких или низких значений. Столбики на гистограммах представляют количество точек данных, попадающих в определенные диапазоны значений. Попробуйте использовать приведенный ниже код, чтобы увидеть гистограмму значений длины чашелистника. Значение для интервалов указывает количество интервалов для данных, а диапазон указывает минимальное и максимальное значение для оси x.\n"
      ]
    },
    {
      "cell_type": "code",
      "execution_count": null,
      "metadata": {
        "id": "H58oBnB109lx"
      },
      "outputs": [],
      "source": [
        "#Введите Ваш код"
      ]
    },
    {
      "cell_type": "markdown",
      "metadata": {
        "id": "aQSD-AlP09ly"
      },
      "source": [
        "Из гистограммы выше Вы можете видеть, что распределение относительно сбалансировано, при этом большая часть данных находится между 4,5 и 7,0. Теперь попробуйте построить гистограммы для остальных переменных. Попробуйте разные количества столбиков и диапазоны, чтобы получить столбики с хорошими интервалами. Например, столбики с интервалами 1, 0,5, 0,2 и т.д. легче визуализировать. Вы можете вывести минимальные и максимальные значения, чтобы было понятнее. Вы можете использовать приведенный ниже код, чтобы вывести на экран минимальные и максимальные значения длины чашелистника. Как Вы можете видеть, значения будут находиться в диапазоне от 4 до 8, и 8 столбиков будут подходящими, поскольку интервал 0,5 будет легко визуализировать."
      ]
    },
    {
      "cell_type": "code",
      "execution_count": null,
      "metadata": {
        "id": "e9Mn1y_509ly"
      },
      "outputs": [],
      "source": [
        "#Введите Ваш код"
      ]
    },
    {
      "cell_type": "markdown",
      "metadata": {
        "id": "iy9OlaQy09ly"
      },
      "source": [
        "Постройте остальные гистограммы ниже! Запишите диапазоны и количество интервалов, используемых в каждой гистограмме. Как Вы получили значения диапазона и количество столбиков? Какую информацию Вы можете получить из гистограммы, которая не была отображена в виде диаграммы размаха?"
      ]
    },
    {
      "cell_type": "code",
      "execution_count": null,
      "metadata": {
        "id": "OWasTP-k09ly"
      },
      "outputs": [],
      "source": [
        "#Введите Ваш код"
      ]
    },
    {
      "cell_type": "markdown",
      "metadata": {
        "id": "gd9-Pdus09ly"
      },
      "source": [
        "Из гистограмм выше Вы должны заметить, что распределение искажено как по длине лепестка, так и по ширине лепестка. Это тот же вывод, что и ранее из коробчатых диаграмм."
      ]
    },
    {
      "cell_type": "markdown",
      "metadata": {
        "id": "IjDyLSAq09ly"
      },
      "source": [
        "# 4. Диаграммы рассеяния (точечные диаграммы)"
      ]
    },
    {
      "cell_type": "markdown",
      "metadata": {
        "id": "SrvHDN9z09lz"
      },
      "source": [
        "И коробчатые диаграммы, и гистограммы могут определить, существуют ли выбросы в одной переменной. Что если Вам нужно искать выбросы в двух переменных, а не только в одной? В этом Вам поможет диаграмма рассеяния. С помощью диаграммы рассеяния можно определить, есть ли выбросы, построив точки для 2 переменных. Напишите свой код ниже. Используйте \"длину лепестка\" и \"ширину лепестка\" в качестве переменных."
      ]
    },
    {
      "cell_type": "code",
      "execution_count": null,
      "metadata": {
        "id": "iQE_h10B09lz"
      },
      "outputs": [],
      "source": [
        "#Введите Ваш код"
      ]
    },
    {
      "cell_type": "markdown",
      "metadata": {
        "id": "LnKAWez409lz"
      },
      "source": [
        "Вы замечаете выбросы на диаграмме рассеяния? Где они на графике?"
      ]
    },
    {
      "cell_type": "code",
      "execution_count": null,
      "metadata": {
        "id": "sMgkClLQ09lz"
      },
      "outputs": [],
      "source": [
        "#Введите Ваш ответ"
      ]
    },
    {
      "cell_type": "markdown",
      "metadata": {
        "id": "aCPNJ00N09lz"
      },
      "source": [
        "Из рисунка выше может показаться, что слева на графике есть выбросы, так как эти точки очень далеки от большинства. Однако это не выбросы, поскольку выбросы обычно не группируются. Кроме того, обычно бывает всего несколько точек выброса. Эта группа точек кажется скорее кластером, чем выбросами. Позже мы увидим, почему этот кластер существует. Кроме того, если Вы внимательно понаблюдаете, Вы также сможете увидеть, что существует прямая зависимость между шириной лепестка и длиной лепестка. Это означает, что при низких значениях ширины лепестков значения длины лепестков также будут низкими, и наоборот. Таким образом, диаграммы рассеяния иногда могут также выявить взаимосвязи между переменными."
      ]
    },
    {
      "cell_type": "markdown",
      "metadata": {
        "id": "QFF7YJ9S09l0"
      },
      "source": [
        "Теперь Ваша очередь попытаться построить еще одну диаграмму рассеяния. Используйте оставшиеся 2 переменные, «длину чашелистника» и «ширину чашелистника». Уделите время изучению графика. Видите ли Вы какие-нибудь интересные отношения между двумя переменными?"
      ]
    },
    {
      "cell_type": "code",
      "execution_count": null,
      "metadata": {
        "id": "tvhNpfZB09l0"
      },
      "outputs": [],
      "source": [
        "#Введите Ваш код"
      ]
    },
    {
      "cell_type": "markdown",
      "metadata": {
        "id": "e_N55_dQ09l0"
      },
      "source": [
        "Из графика можно заметить, что при сравнении ширины чашелистика и его длины, кажется, нет явных отклонений. Более того, кажется, что нет четкой взаимосвязи между шириной чашелистика и его длиной."
      ]
    },
    {
      "cell_type": "markdown",
      "metadata": {
        "id": "me2BlYc909l0"
      },
      "source": [
        "<font color=blue>Бонус: Мы также можем использовать точечные диаграммы, чтобы понять различия в классах в наборе данных. Напомним, что мы не использовали классы цветов. Классы - это ярлыки для каждого цветка. Это означает, что мы можем использовать значения переменных «длина чашелистика», «ширина чашелистника», «длина лепестка» и «ширина лепестка», чтобы попытаться предсказать класс цветка. Мы можем использовать точечные диаграммы, чтобы увидеть, какая переменная может быть наиболее полезной для прогнозирования класса. Попробуйте код ниже!</font>"
      ]
    },
    {
      "cell_type": "code",
      "execution_count": null,
      "metadata": {
        "id": "9v7310Oh09l0"
      },
      "outputs": [],
      "source": [
        "#Разделите датафрейм на 3 класса\n",
        "df_Setosa = df[df['class'] == 'Iris-setosa']\n",
        "#Введите Ваш код\n",
        "\n",
        "#Построим разные классы разными цветами. Аргумент c= управляет цветами, label= управляет легендой\n",
        "plt.scatter(df_Setosa['petal_length'],df_Setosa['petal_width'],c='r',label='Setosa')\n",
        "#Введите Ваш код\n",
        "\n",
        "#Добавим оси и легенду\n",
        "plt.legend()\n",
        "plt.xlabel('Petal Length')\n",
        "plt.ylabel('Petal Width')\n",
        "\n",
        "plt.show()"
      ]
    },
    {
      "cell_type": "markdown",
      "metadata": {
        "id": "p8gN2zUP09l0"
      },
      "source": [
        "Можно увидеть, что ширина лепестка и длина лепестка могут быть важными переменными, если мы хотим предсказать классы цветов. Это также объясняет, почему значения в левом углу не являются выбросами. Сделайте такой же график для других переменных. Легко ли увидеть классы цветов на них?"
      ]
    },
    {
      "cell_type": "code",
      "execution_count": null,
      "metadata": {
        "id": "5zjuIvj609l1"
      },
      "outputs": [],
      "source": [
        "#Введите Ваш код"
      ]
    },
    {
      "cell_type": "markdown",
      "metadata": {
        "id": "JpgePBN309l1"
      },
      "source": [
        "Из обоих графиков видно, что легче предсказать класс Setosa, поскольку точки данных легко отделить от двух других классов."
      ]
    }
  ],
  "metadata": {
    "colab": {
      "provenance": []
    },
    "kernelspec": {
      "display_name": "Python 3",
      "language": "python",
      "name": "python3"
    },
    "language_info": {
      "codemirror_mode": {
        "name": "ipython",
        "version": 3
      },
      "file_extension": ".py",
      "mimetype": "text/x-python",
      "name": "python",
      "nbconvert_exporter": "python",
      "pygments_lexer": "ipython3",
      "version": "3.11.1"
    },
    "vscode": {
      "interpreter": {
        "hash": "6c710a50793836ac5df752dfafeed775c10de46f34484724fea714f79abf6530"
      }
    }
  },
  "nbformat": 4,
  "nbformat_minor": 0
}
