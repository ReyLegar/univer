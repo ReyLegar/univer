{
  "cells": [
    {
      "cell_type": "markdown",
      "metadata": {
        "id": "QOD_tHJz82QU"
      },
      "source": [
        "## Ошибочные и отсутствующие данные"
      ]
    },
    {
      "cell_type": "markdown",
      "metadata": {
        "id": "Am6ahxuB82QZ"
      },
      "source": [
        "Нам необходимо собрать или загрузить данные перед любым проектом в области науки о данных или машинного обучения. В идеале, данные должны быть собраны в высоком качестве без ошибок. Однако на самом деле не бывает чистого набора данных без ошибок и пропусков. Перед использованием набора данных необходимо проверить все наборы данных на предмет ошибочных и отсутствующих данных. Это всегда важно, так как любой анализ с неверными или отсутствующими данными будет неточным!"
      ]
    },
    {
      "cell_type": "markdown",
      "metadata": {
        "id": "8LmYJ97o82Qa"
      },
      "source": [
        "Помните, что импортировать все необходимые модули следует в начале блокнота. Сделать это можно в ячейке ниже."
      ]
    },
    {
      "cell_type": "code",
      "execution_count": null,
      "metadata": {
        "id": "Zb8yxpzb82Qa"
      },
      "outputs": [],
      "source": [
        "import matplotlib.pyplot as plt\n",
        "import pandas as pd\n",
        "import numpy as np"
      ]
    },
    {
      "cell_type": "markdown",
      "metadata": {
        "id": "y0oALf7b82Qb"
      },
      "source": [
        "## 1. Ошибочные данные"
      ]
    },
    {
      "cell_type": "markdown",
      "metadata": {
        "id": "GNOPnPGW82Qb"
      },
      "source": [
        "Ошибочные данные относятся к данным, которые либо неправильно собраны, либо введены в набор данных неправильно. Например, если у нас есть набор данных, содержащий количество комнат в доме, мы ожидаем, что все значения будут положительными, поскольку отрицательное количество комнат невозможно. Таким образом, все отрицательные значения в наборе данных будут ошибочными.\n",
        "\n",
        "Хотя в некоторых случаях может быть легко выявить ошибочные данные, так бывает не всегда. Используя ту же идею набора данных, содержащего количество комнат в доме, также возможно, что большие значения также могут быть ошибочными. Однако сейчас не так ясно, являются ли большие числа ошибками или выбросами. Это потому, что в очень больших домах, таких как особняки, может быть много комнат. Поскольку особняки встречаются редко, их данные будут отображаться как выбросы. Выбросы не являются ошибочными данными! Выбросы - это просто редкие случаи, и они все еще являются действительными точками данных.\n",
        "\n",
        "Пример ниже покажет разницу между ошибочными данными и выбросами."
      ]
    },
    {
      "cell_type": "markdown",
      "metadata": {
        "id": "EBHuaw7U82Qb"
      },
      "source": [
        "## 1.1 Цена на компьютерные игры"
      ]
    },
    {
      "cell_type": "markdown",
      "metadata": {
        "id": "6RcRcqO782Qc"
      },
      "source": [
        "Перед нами стоит задача изучить, связана ли цена компьютерной игры с количеством людей, которым она нравится. Это поможет компании-разработчику игр скорректировать цену на новейшую игру. Предполагая, что мы собрали все данные о ценах в долларах США (USD), а также о количестве людей, которым понравилась игра. Теперь нам нужно проверить, содержат ли данные какие-либо выбросы или ошибочные данные. Запустите приведенный ниже код и посмотрите на результат."
      ]
    },
    {
      "cell_type": "code",
      "execution_count": null,
      "metadata": {
        "colab": {
          "base_uri": "https://localhost:8080/",
          "height": 279
        },
        "id": "uRVbO1yS82Qc",
        "outputId": "2770b16b-7aeb-4197-877f-bf398506fc17"
      },
      "outputs": [
        {
          "data": {
            "image/png": "[encoded data removed]",
            "text/plain": [
              "<Figure size 432x288 with 1 Axes>"
            ]
          },
          "metadata": {
            "needs_background": "light",
            "tags": []
          },
          "output_type": "display_data"
        }
      ],
      "source": [
        "#game_name содержит названия игр\n",
        "#game_price включает в себя цены на соответствующие игры, num_people - это количество людей, которым нравится та или иная игра \n",
        "game_name = ['Phone of duty','PIFA soccer','Lario cart','Hokemon','Loom','League of failures','Fritnite','Fatty Trotter']\n",
        "game_price = [10,20,50,150,80,200,1000,-100]\n",
        "num_people = [1,2,5,15,8,10,1,0.5]\n",
        "\n",
        "plt.scatter(num_people[0:5],game_price[0:5])\n",
        "plt.scatter(num_people[5],game_price[5],c='g')\n",
        "plt.scatter(num_people[6:8],game_price[6:8],c='r')\n",
        "\n",
        "plt.xlabel('Количество человек')\n",
        "plt.ylabel('Цена игры (USD)')\n",
        "\n",
        "plt.show();"
      ]
    },
    {
      "cell_type": "markdown",
      "metadata": {
        "id": "7_ocAG0o82Qd"
      },
      "source": [
        "Что вы заметили на рисунке выше?\n",
        "\n",
        "Кажется, что точки красного цвета - ошибочные данные. Для первой точки, выделенной красным, это ошибочно, потому что цена отрицательная, а количество людей, которым понравилась игра, находится в диапазоне от 0 до 1. Игра не может быть продана по отрицательной цене, и также невозможно иметь долю человека, которому нравится игра. Вторая точка, выделенная красным, ошибочна, поскольку компьютерные игры не стоят целых 1000 долларов США.\n",
        "\n",
        "Поскольку красные точки данных ошибочны, нам нужно будет удалить эти значения из набора данных. Скопируйте приведенный выше код и отредактируйте его, чтобы удалить ошибочные точки и построить только оставшиеся точки. Запустите отредактированный код ниже. Если вы все сделали правильно, у вас не будет отрицательного значения для цены и дробного числа для количества людей.\n",
        "\n",
        "\n",
        "<font color=blue>Бонус: можете ли вы перечислить игры с ошибочными данными?</font>"
      ]
    },
    {
      "cell_type": "code",
      "execution_count": null,
      "metadata": {
        "id": "y2-KONDW82Qd",
        "outputId": "b5694393-949d-4a6a-e6ec-d3c878533c89"
      },
      "outputs": [
        {
          "ename": "SyntaxError",
          "evalue": "invalid syntax (<ipython-input-3-7683442df74c>, line 1)",
          "output_type": "error",
          "traceback": [
            "\u001b[1;36m  File \u001b[1;32m\"<ipython-input-3-7683442df74c>\"\u001b[1;36m, line \u001b[1;32m1\u001b[0m\n\u001b[1;33m    Games: Fritnite and Fatty Trotter\u001b[0m\n\u001b[1;37m                                    ^\u001b[0m\n\u001b[1;31mSyntaxError\u001b[0m\u001b[1;31m:\u001b[0m invalid syntax\n"
          ]
        }
      ],
      "source": [
        "Games: Fritnite и Fatty Trotter"
      ]
    },
    {
      "cell_type": "code",
      "execution_count": null,
      "metadata": {
        "colab": {
          "base_uri": "https://localhost:8080/",
          "height": 279
        },
        "id": "cFWDVe5182Qd",
        "outputId": "3ccb96b3-e518-4615-cbbf-aa018bfb3428"
      },
      "outputs": [
        {
          "data": {
            "image/png": "[encoded data removed]",
            "text/plain": [
              "<Figure size 432x288 with 1 Axes>"
            ]
          },
          "metadata": {
            "needs_background": "light",
            "tags": []
          },
          "output_type": "display_data"
        }
      ],
      "source": [
        "#game_price относится к цене компьютерной игры, а num_people - к количеству людей, которым понравилась игра.\n",
        "game_price = [10,20,50,150,80,200]\n",
        "num_people = [1,2,5,15,8,10]\n",
        "\n",
        "plt.scatter(num_people[0:5],game_price[0:5])\n",
        "plt.scatter(num_people[5],game_price[5],c='g')\n",
        "\n",
        "plt.xlabel('Количество человек')\n",
        "plt.ylabel('Цена игры (USD)')\n",
        "\n",
        "plt.show();"
      ]
    },
    {
      "cell_type": "markdown",
      "metadata": {
        "id": "VU4zOVZ582Qe"
      },
      "source": [
        "Теперь мы видим, что существует линейная зависимость между ценой игры и количеством людей, которым она понравилась. Цена на игру выше, когда игра понравилась большему количеству людей.\n",
        "\n",
        "Однако замечаете ли Вы момент, который, кажется, не укладывается в отношения?\n",
        "\n",
        "Вы правы, если поняли, что зеленая точка не подходит. Поскольку цена игры и количество людей, которым она понравилась, кажутся реалистичными, скорее всего, это будет выброс, а не ошибочные данные. Напомним, что выброс не может быть неправильной точкой данных. В данном случае это может быть очень дорогая игра, которая нравится только 12 людям.\n",
        "\n",
        "Мы можем удалить выброс или оставить его. Если у Вас достаточно точек данных или вы можете собрать больше точек, чтобы заменить выброс, мы можем удалить выброс из набора данных. Не существует строгого правила для принятия решения об удалении выбросов. Однако, если выбросы составляют большую часть Вашего набора данных, Вам не следует удалять их, а вместо этого попытайтесь собрать больше данных, чтобы увидеть, действительно ли они являются выбросами. В этом примере, поскольку кажется, что есть только один выброс, мы удалим его. Удалите выброс и постройте новую диаграмму рассеяния ниже."
      ]
    },
    {
      "cell_type": "code",
      "execution_count": null,
      "metadata": {
        "colab": {
          "base_uri": "https://localhost:8080/",
          "height": 279
        },
        "id": "FH98sOXu82Qe",
        "outputId": "c7e13bdb-89fc-4959-b9ff-0ee4c89edcf0"
      },
      "outputs": [
        {
          "data": {
            "image/png": "[encoded data removed]",
            "text/plain": [
              "<Figure size 432x288 with 1 Axes>"
            ]
          },
          "metadata": {
            "needs_background": "light",
            "tags": []
          },
          "output_type": "display_data"
        }
      ],
      "source": [
        "#game_price относится к цене компьютерной игры, а num_people - к количеству людей, которым понравилась игра.\n",
        "game_price = [10,20,50,150,80]\n",
        "num_people = [1,2,5,15,8]\n",
        "\n",
        "plt.scatter(num_people[0:5],game_price[0:5])\n",
        "\n",
        "plt.xlabel('Количество человек')\n",
        "plt.ylabel('Цена игры (USD)')\n",
        "\n",
        "plt.show();"
      ]
    },
    {
      "cell_type": "markdown",
      "metadata": {
        "id": "bGiAcJ6U82Qe"
      },
      "source": [
        "Из нового графика разброса видно, что цена игры теперь линейно увеличивается в зависимости от количества людей, которым игра понравилась."
      ]
    },
    {
      "cell_type": "markdown",
      "metadata": {
        "id": "rbvPnWFp82Qf"
      },
      "source": [
        "## 1.2 Обработка ошибочных данных в датафреймах "
      ]
    },
    {
      "cell_type": "markdown",
      "metadata": {
        "id": "y5hKY2ia82Qf"
      },
      "source": [
        "Вам предоставляется CSV-файл «Students_Score1.csv». Он содержит данные о количестве часов, потраченных студентом на обучение, и о результатах экзаменов студентов по математике, английскому языку и естественным наукам. Предполагается, что учащийся должен набрать больше очков, если он больше времени проводит за учебой. Однако исследования также показали, что студент не может заниматься более 16 часов в день. Кроме того, также возможно, что некоторые данные будут ошибочными. Если в данных обнаружена ошибка, следует удалить всю строку данных. Сможете ли вы помочь выявить и удалить ошибочные данные?"
      ]
    },
    {
      "cell_type": "markdown",
      "metadata": {
        "id": "MJKAvX7P82Qf"
      },
      "source": [
        "Сначала загрузите данные как датафрейм df. Для этого необходимо открыть доступ к файлам Google Диска. Подробнее о работе с файлами на Google Диске через Colab описано в инструкции: https://docs.google.com/document/d/1AQUqdGPTKDAk-ytr7LTmuOSb4OooZORPkORzmqRh-l8/edit?usp=sharing"
      ]
    },
    {
      "cell_type": "code",
      "execution_count": null,
      "metadata": {
        "colab": {
          "base_uri": "https://localhost:8080/"
        },
        "id": "WHar9XbyTHT_",
        "outputId": "5fde7bf1-7917-495f-be95-4dbe55aac3cc"
      },
      "outputs": [
        {
          "name": "stdout",
          "output_type": "stream",
          "text": [
            "Mounted at /drive\n"
          ]
        }
      ],
      "source": [
        "from google.colab import drive\n",
        "drive.mount('/drive')"
      ]
    },
    {
      "cell_type": "code",
      "execution_count": null,
      "metadata": {
        "id": "LyTDNIr982Qf"
      },
      "outputs": [],
      "source": [
        "df = pd.read_csv('/drive/My Drive/Блокноты для Colab/ЭТАП 3 - Опыт БЛОКНОТЫ/[Рабочие файлы - Преподаватель] Модуль 16/data/Students_Score1.csv')"
      ]
    },
    {
      "cell_type": "markdown",
      "metadata": {
        "id": "t9lzyTgD82Qf"
      },
      "source": [
        "Выведите заголовки и первые 5 строк df. Дополнительно выведите .info(). Это поможет нам понять имена столбцов, а также проверить отсутствие значений."
      ]
    },
    {
      "cell_type": "code",
      "execution_count": null,
      "metadata": {
        "colab": {
          "base_uri": "https://localhost:8080/"
        },
        "id": "iG04T0Vw82Qf",
        "outputId": "1c373f44-c45c-4611-fcfd-d9026bcab6e4"
      },
      "outputs": [
        {
          "name": "stdout",
          "output_type": "stream",
          "text": [
            "   Student No.  Hours spent studying in a day  ...  English score  Science score\n",
            "0            1                             11  ...           39.6           35.2\n",
            "1            2                             19  ...           68.4           60.8\n",
            "2            3                              4  ...           14.4           12.8\n",
            "3            4                             24  ...           86.4           76.8\n",
            "4            5                              4  ...           14.4           12.8\n",
            "\n",
            "[5 rows x 5 columns]\n",
            "<class 'pandas.core.frame.DataFrame'>\n",
            "RangeIndex: 267 entries, 0 to 266\n",
            "Data columns (total 5 columns):\n",
            " #   Column                         Non-Null Count  Dtype  \n",
            "---  ------                         --------------  -----  \n",
            " 0   Student No.                    267 non-null    int64  \n",
            " 1   Hours spent studying in a day  267 non-null    int64  \n",
            " 2   Mathematics score              267 non-null    int64  \n",
            " 3   English score                  267 non-null    float64\n",
            " 4   Science score                  267 non-null    float64\n",
            "dtypes: float64(2), int64(3)\n",
            "memory usage: 10.6 KB\n",
            "None\n"
          ]
        }
      ],
      "source": [
        "print(df.head())\n",
        "print(df.info())"
      ]
    },
    {
      "cell_type": "markdown",
      "metadata": {
        "id": "CXbCiXMN82Qg"
      },
      "source": [
        "Теперь мы знаем названия столбцов. Нам необходимо знать минимальные и максимальные значения количества часов и оценок, чтобы проверять ошибочные данные. Выведите .describe(), чтобы узнать эти подробности."
      ]
    },
    {
      "cell_type": "code",
      "execution_count": null,
      "metadata": {
        "colab": {
          "base_uri": "https://localhost:8080/"
        },
        "id": "-u7Rp-mv82Qg",
        "outputId": "b88c0dde-f58c-470c-e76f-8d32729b468a"
      },
      "outputs": [
        {
          "name": "stdout",
          "output_type": "stream",
          "text": [
            "       Student No.  Hours spent studying in a day  ...  English score  Science score\n",
            "count   267.000000                     267.000000  ...     267.000000     267.000000\n",
            "mean    134.000000                      12.123596  ...      43.539326      38.795506\n",
            "std      77.220464                       7.668636  ...      28.521820      24.539635\n",
            "min       1.000000                     -10.000000  ...     -36.000000     -32.000000\n",
            "25%      67.500000                       6.000000  ...      21.600000      19.200000\n",
            "50%     134.000000                      12.000000  ...      43.200000      38.400000\n",
            "75%     200.500000                      18.000000  ...      66.600000      57.600000\n",
            "max     267.000000                      40.000000  ...     144.000000     128.000000\n",
            "\n",
            "[8 rows x 5 columns]\n"
          ]
        }
      ],
      "source": [
        "print(df.describe())"
      ]
    },
    {
      "cell_type": "markdown",
      "metadata": {
        "id": "u0E_ri4T82Qg"
      },
      "source": [
        "По минимальным и максимальным значениям, показанным выше, можете ли Вы определить, в каких столбцах есть ошибочные данные?"
      ]
    },
    {
      "cell_type": "code",
      "execution_count": null,
      "metadata": {
        "id": "RD_uScML82Qg",
        "outputId": "3dc2157a-f29d-4f45-ac62-20247da032f3"
      },
      "outputs": [
        {
          "ename": "SyntaxError",
          "evalue": "invalid syntax (<ipython-input-10-55ee0e24b830>, line 1)",
          "output_type": "error",
          "traceback": [
            "\u001b[1;36m  File \u001b[1;32m\"<ipython-input-10-55ee0e24b830>\"\u001b[1;36m, line \u001b[1;32m1\u001b[0m\n\u001b[1;33m    Hours, Mathematics score, English score and Science score all have outliers\u001b[0m\n\u001b[1;37m                           ^\u001b[0m\n\u001b[1;31mSyntaxError\u001b[0m\u001b[1;31m:\u001b[0m invalid syntax\n"
          ]
        }
      ],
      "source": [
        "Часы, оценка по математике, оценка по английскому и естественным наукам - все имеют отклонения."
      ]
    },
    {
      "cell_type": "markdown",
      "metadata": {
        "id": "NB48aBIf82Qg"
      },
      "source": [
        "Теперь попробуем удалить ошибочные данные. Сначала мы будем работать над оценкой по математике. Код должен иметь возможность удалять строки с оценкой по математике меньше 0 или больше 100."
      ]
    },
    {
      "cell_type": "code",
      "execution_count": null,
      "metadata": {
        "colab": {
          "base_uri": "https://localhost:8080/"
        },
        "id": "orB6T7BF82Qh",
        "outputId": "30fd0475-808b-48e3-c29c-f89cd12e866a"
      },
      "outputs": [
        {
          "name": "stdout",
          "output_type": "stream",
          "text": [
            "       Student No.  Hours spent studying in a day  ...  English score  Science score\n",
            "count   261.000000                     261.000000  ...     261.000000     261.000000\n",
            "mean    135.578544                      12.160920  ...      43.671264      38.914943\n",
            "std      77.120975                       7.442405  ...      27.756135      23.815696\n",
            "min       1.000000                       0.000000  ...     -15.000000       0.000000\n",
            "25%      70.000000                       6.000000  ...      21.600000      19.200000\n",
            "50%     137.000000                      12.000000  ...      43.200000      38.400000\n",
            "75%     202.000000                      18.000000  ...      64.800000      57.600000\n",
            "max     267.000000                      40.000000  ...     144.000000     128.000000\n",
            "\n",
            "[8 rows x 5 columns]\n",
            "<class 'pandas.core.frame.DataFrame'>\n",
            "Int64Index: 261 entries, 0 to 266\n",
            "Data columns (total 5 columns):\n",
            " #   Column                         Non-Null Count  Dtype  \n",
            "---  ------                         --------------  -----  \n",
            " 0   Student No.                    261 non-null    int64  \n",
            " 1   Hours spent studying in a day  261 non-null    int64  \n",
            " 2   Mathematics score              261 non-null    int64  \n",
            " 3   English score                  261 non-null    float64\n",
            " 4   Science score                  261 non-null    float64\n",
            "dtypes: float64(2), int64(3)\n",
            "memory usage: 12.2 KB\n",
            "None\n"
          ]
        }
      ],
      "source": [
        "df2 = df[df['Mathematics score'] >=0]\n",
        "df3 = df2[df2['Mathematics score'] <=100]\n",
        "print(df3.describe())\n",
        "print(df3.info())"
      ]
    },
    {
      "cell_type": "markdown",
      "metadata": {
        "id": "m1lkDdoR82Qh"
      },
      "source": [
        "Сравните информацию «Mathematics score» до и после удаления данных меньше 0 и больше 100. Что Вы заметили?"
      ]
    },
    {
      "cell_type": "code",
      "execution_count": null,
      "metadata": {
        "id": "k_DPLwAn82Qh",
        "outputId": "421afc40-c873-4634-9611-d6f71df07b62"
      },
      "outputs": [
        {
          "ename": "SyntaxError",
          "evalue": "invalid syntax (<ipython-input-12-ca6c8009464e>, line 1)",
          "output_type": "error",
          "traceback": [
            "\u001b[1;36m  File \u001b[1;32m\"<ipython-input-12-ca6c8009464e>\"\u001b[1;36m, line \u001b[1;32m1\u001b[0m\n\u001b[1;33m    Mathematics score are now between 0 to 100 which are likely scores for an examination.\u001b[0m\n\u001b[1;37m                    ^\u001b[0m\n\u001b[1;31mSyntaxError\u001b[0m\u001b[1;31m:\u001b[0m invalid syntax\n"
          ]
        }
      ],
      "source": [
        "Оценка по математике теперь составляет от 0 до 100, что, скорее всего, является оценкой за экзамен."
      ]
    },
    {
      "cell_type": "markdown",
      "metadata": {
        "id": "9pmj-3kp82Qh"
      },
      "source": [
        "Если мы сравним полученные данные с той же таблицей, выведенной ранее, мы увидим, что оценка по математике теперь колеблется от 0 до 96. Кроме того, мы также можем видеть из .info(), что количество точек данных уменьшилось с 267 до 261. Это указывает на то, что 6 оценок по математике были ошибочными."
      ]
    },
    {
      "cell_type": "markdown",
      "metadata": {
        "id": "E4piUw1k82Qh"
      },
      "source": [
        "Теперь Ваша очередь удалить ошибочные данные из столбцов оценки английского языка, оценки естественных наук и часов, потраченных на обучение в день. Выведите .describe() и .info()."
      ]
    },
    {
      "cell_type": "code",
      "execution_count": null,
      "metadata": {
        "colab": {
          "base_uri": "https://localhost:8080/"
        },
        "id": "w-OZFZst82Qi",
        "outputId": "80beca4e-fa0c-4eb9-c890-d85dbe8fa6ef"
      },
      "outputs": [
        {
          "name": "stdout",
          "output_type": "stream",
          "text": [
            "       Student No.  Hours spent studying in a day  ...  English score  Science score\n",
            "count   257.000000                     257.000000  ...     257.000000     257.000000\n",
            "mean    135.038911                      12.050584  ...      43.382101      38.561868\n",
            "std      76.669685                       7.292532  ...      26.253116      23.336103\n",
            "min       1.000000                       0.000000  ...       0.000000       0.000000\n",
            "25%      69.000000                       6.000000  ...      21.600000      19.200000\n",
            "50%     137.000000                      12.000000  ...      43.200000      38.400000\n",
            "75%     201.000000                      18.000000  ...      64.800000      57.600000\n",
            "max     266.000000                      24.000000  ...      86.400000      76.800000\n",
            "\n",
            "[8 rows x 5 columns]\n",
            "       Student No.  Hours spent studying in a day  ...  English score  Science score\n",
            "count   257.000000                     257.000000  ...     257.000000     257.000000\n",
            "mean    135.038911                      12.050584  ...      43.382101      38.561868\n",
            "std      76.669685                       7.292532  ...      26.253116      23.336103\n",
            "min       1.000000                       0.000000  ...       0.000000       0.000000\n",
            "25%      69.000000                       6.000000  ...      21.600000      19.200000\n",
            "50%     137.000000                      12.000000  ...      43.200000      38.400000\n",
            "75%     201.000000                      18.000000  ...      64.800000      57.600000\n",
            "max     266.000000                      24.000000  ...      86.400000      76.800000\n",
            "\n",
            "[8 rows x 5 columns]\n",
            "       Student No.  Hours spent studying in a day  ...  English score  Science score\n",
            "count   179.000000                     179.000000  ...     179.000000     179.000000\n",
            "mean    133.536313                       8.189944  ...      29.483799      26.207821\n",
            "std      77.929762                       4.990745  ...      17.966683      15.970385\n",
            "min       1.000000                       0.000000  ...       0.000000       0.000000\n",
            "25%      63.500000                       4.000000  ...      14.400000      12.800000\n",
            "50%     138.000000                       8.000000  ...      28.800000      25.600000\n",
            "75%     199.000000                      12.500000  ...      45.000000      40.000000\n",
            "max     266.000000                      16.000000  ...      57.600000      51.200000\n",
            "\n",
            "[8 rows x 5 columns]\n",
            "<class 'pandas.core.frame.DataFrame'>\n",
            "Int64Index: 179 entries, 0 to 265\n",
            "Data columns (total 5 columns):\n",
            " #   Column                         Non-Null Count  Dtype  \n",
            "---  ------                         --------------  -----  \n",
            " 0   Student No.                    179 non-null    int64  \n",
            " 1   Hours spent studying in a day  179 non-null    int64  \n",
            " 2   Mathematics score              179 non-null    int64  \n",
            " 3   English score                  179 non-null    float64\n",
            " 4   Science score                  179 non-null    float64\n",
            "dtypes: float64(2), int64(3)\n",
            "memory usage: 8.4 KB\n",
            "None\n"
          ]
        }
      ],
      "source": [
        "df4 = df3[df3['English score'] >=0]\n",
        "df5 = df4[df4['English score'] <=100]\n",
        "print(df5.describe())\n",
        "\n",
        "df6 = df5[df5['Science score'] >=0]\n",
        "df7 = df6[df6['Science score'] <=100]\n",
        "print(df7.describe())\n",
        "\n",
        "df8 = df7[df7['Hours spent studying in a day'] >=0]\n",
        "df9 = df8[df8['Hours spent studying in a day'] <=16]\n",
        "print(df9.describe())\n",
        "print(df9.info())"
      ]
    },
    {
      "cell_type": "markdown",
      "metadata": {
        "id": "WHoVx3T882Qi"
      },
      "source": [
        "Можете ли Вы определить общее количество точек данных, содержащих ошибочные данные, на основе информации, полученной из .describe()? Можете ли Вы также определить правильные минимальные и максимальные баллы по каждому предмету?"
      ]
    },
    {
      "cell_type": "code",
      "execution_count": null,
      "metadata": {
        "id": "J2boVSlQ82Qj",
        "outputId": "035a2911-18d5-473d-c810-3107be5142d6"
      },
      "outputs": [
        {
          "ename": "SyntaxError",
          "evalue": "invalid syntax (<ipython-input-14-f91e735a08ff>, line 1)",
          "output_type": "error",
          "traceback": [
            "\u001b[1;36m  File \u001b[1;32m\"<ipython-input-14-f91e735a08ff>\"\u001b[1;36m, line \u001b[1;32m1\u001b[0m\n\u001b[1;33m    From the tables above, you will be able to observe that there were a total of 88 data points or students with erroneous data!\u001b[0m\n\u001b[1;37m           ^\u001b[0m\n\u001b[1;31mSyntaxError\u001b[0m\u001b[1;31m:\u001b[0m invalid syntax\n"
          ]
        }
      ],
      "source": [
        "Из приведенных выше таблиц вы сможете увидеть, что всего 88 точек данных или учащихся с ошибочными данными!\n",
        "\n",
        "Математика: Мин: 0, Макс: 64\n",
        "Английский язык: мин .: 0, макс .: 57,6\n",
        "Наука: мин: 0, макс: 51,2"
      ]
    },
    {
      "cell_type": "markdown",
      "metadata": {
        "id": "j9wIOh9t82Qj"
      },
      "source": [
        "## 2. Потерянные данные"
      ]
    },
    {
      "cell_type": "markdown",
      "metadata": {
        "id": "k5qGhsxn82Qj"
      },
      "source": [
        "Отсутствующие данные относятся к пробелам в наборе данных. Потери возникают, поскольку не все точки данных могут быть собраны. Например, если Вам необходимо подсчитывать количество писем, доставляемых почтальоном каждый день, у Вас может не быть данных о днях, когда почтальон был в отпуске. Таким образом, Вы будете заполнять данные по этим дням как недостающие. Другая возможная причина отсутствия данных может быть связана с небрежностью человека, собирающего эти данные. Иногда человек, собирающий данные, мог забыть ввести данные. Кроме того, если Вы получаете данные из форм опроса, Вы можете ожидать, что столкнетесь с отсутствием данных из-за неполных форм. Это связано с тем, что не все заполняют все поля в форме опроса.\n",
        "\n",
        "Можете ли Вы указать некоторые возможные причины, по которым в перечисленных ниже сценариях могут отсутствовать данные?\n",
        "- Количество часов, которые учитель проводит в школе в день.\n",
        "- Количество телефонных звонков, которые офисный работник получает на мобильный телефон за день.\n",
        "- Температура воздуха в вашем городе.\n",
        "\n"
      ]
    },
    {
      "cell_type": "code",
      "execution_count": null,
      "metadata": {
        "id": "gK-G_wNQ82Qk"
      },
      "outputs": [],
      "source": [
        "- Учитель может не помнить количество часов, проведенных в школе\n",
        "- История звонков может быть удалена до записи данных\n",
        "- Датчики температуры могли не собирать данные во время технического обслуживания"
      ]
    },
    {
      "cell_type": "markdown",
      "metadata": {
        "id": "YQHS2Epn82Qk"
      },
      "source": [
        "Отсутствующие данные могут иметь разные формы. Обычно отсутствующие данные обозначаются как NaN, но в некоторых наборах данных могут использоваться либо очень большие числа, либо очень маленькие числа для представления. Одним из примеров могут быть метеорологические или погодные данные. Значение -9999 используется для представления отсутствующих значений данных в этих наборах данных.\n",
        "\n",
        "Перед проведением любого анализа важно удалить или заменить эти отсутствующие значения в наборе данных. Так обеспечивается точность нашего анализа.\n",
        "\n",
        "В приведенном ниже примере Вы узнаете, как определять и обрабатывать эти отсутствующие значения."
      ]
    },
    {
      "cell_type": "markdown",
      "metadata": {
        "id": "3AYhG4jN82Qk"
      },
      "source": [
        "## 2.1 Цены на недвижимость"
      ]
    },
    {
      "cell_type": "markdown",
      "metadata": {
        "id": "ekEV50ww82Qk"
      },
      "source": [
        "Вам и Вашему другу Бену было поручено определить, связаны ли цены на жилье в Вашем районе с количеством комнат в доме. Бен, как хороший друг, решает собрать для Вас все данные. Однако Бен мог проявить неосторожность и упустить некоторые данные. Можете ли Вы помочь ему определить, есть ли недостающие данные?\n",
        "\n",
        "Данные приведены ниже. House_prices - это цена дома в долларах США (USD), а Num_rooms - это количество комнат в доме. Запустите код и внимательно посмотрите на результат! Перед запуском кода убедитесь, что вы импортировали numpy как np."
      ]
    },
    {
      "cell_type": "code",
      "execution_count": null,
      "metadata": {
        "colab": {
          "base_uri": "https://localhost:8080/"
        },
        "id": "zq4iSqNr82Qk",
        "outputId": "750f8a77-fa54-4eac-f58d-8517cfedc515"
      },
      "outputs": [
        {
          "name": "stdout",
          "output_type": "stream",
          "text": [
            "Total number of data points in House_prices =  5\n",
            "Total number of data points in Num_rooms =  6\n"
          ]
        }
      ],
      "source": [
        "House_prices = [10050,42300,50206,np.nan,105000,np.nan,22350]\n",
        "Num_rooms = [np.nan,4,5,6,10,12,2]\n",
        "\n",
        "print('Total number of data points in House_prices = ',np.count_nonzero(~np.isnan(House_prices)))\n",
        "print('Total number of data points in Num_rooms = ',np.count_nonzero(~np.isnan(Num_rooms)))"
      ]
    },
    {
      "cell_type": "markdown",
      "metadata": {
        "id": "p486z3CE82Qk"
      },
      "source": [
        "Почему количество точек данных в House_prices отличается от количества точек данных в Num_rooms? Сколько всего домов?"
      ]
    },
    {
      "cell_type": "code",
      "execution_count": null,
      "metadata": {
        "id": "d-N1hrrk82Ql"
      },
      "outputs": [],
      "source": [
        "В обоих параметрах House_prices и Num_rooms отсутствуют значения. Всего 7 домов."
      ]
    },
    {
      "cell_type": "markdown",
      "metadata": {
        "id": "fQZ1AcT982Ql"
      },
      "source": [
        "Удалите недостающие данные из набора данных и постройте диаграмму рассеяния ниже. Обозначьте оси соответствующим образом. Не забудьте также удалить соответствующие данные для каждого отсутствующего значения. Например, если в цене дома отсутствует значение стоимости, то значение количества комнат также следует удалить. Что Вы наблюдаете на диаграмме рассеяния? Запишите свои наблюдения."
      ]
    },
    {
      "cell_type": "code",
      "execution_count": null,
      "metadata": {
        "colab": {
          "base_uri": "https://localhost:8080/",
          "height": 279
        },
        "id": "xJyDGCU982Ql",
        "outputId": "ae1b56f5-a6de-4f49-958d-5246d63b10e4"
      },
      "outputs": [
        {
          "data": {
            "image/png": "[encoded data removed]",
            "text/plain": [
              "<Figure size 432x288 with 1 Axes>"
            ]
          },
          "metadata": {
            "needs_background": "light",
            "tags": []
          },
          "output_type": "display_data"
        }
      ],
      "source": [
        "House_prices = [42300,50206,105000,22350]\n",
        "Num_rooms = [4,5,10,2]\n",
        "\n",
        "plt.scatter(Num_rooms,House_prices)\n",
        "plt.xlabel('Количество комнат')\n",
        "plt.ylabel('Цена дома в USD')\n",
        "plt.show();"
      ]
    },
    {
      "cell_type": "code",
      "execution_count": null,
      "metadata": {
        "id": "Btfm5BqX82Ql"
      },
      "outputs": [],
      "source": [
        "Диаграмма рассеяния показывает прямую зависимость между количеством комнат и ценами на жилье.\n",
        "Дома с большим количеством комнат дороже."
      ]
    },
    {
      "cell_type": "markdown",
      "metadata": {
        "id": "DH1gxJAq82Ql"
      },
      "source": [
        "<font color=blue>Бонус: можете ли Вы угадать правильные значения предыдущих пропущенных значений? Замените недостающие значения своими предположениями и снова постройте график рассеяния!</font>"
      ]
    },
    {
      "cell_type": "code",
      "execution_count": null,
      "metadata": {
        "colab": {
          "base_uri": "https://localhost:8080/",
          "height": 279
        },
        "id": "ycZW5Pbq82Ql",
        "outputId": "9e2dc8ef-e234-4db6-cf88-98d563b81892"
      },
      "outputs": [
        {
          "data": {
            "image/png": "[encoded data removed]",
            "text/plain": [
              "<Figure size 432x288 with 1 Axes>"
            ]
          },
          "metadata": {
            "needs_background": "light",
            "tags": []
          },
          "output_type": "display_data"
        }
      ],
      "source": [
        "#Стоимость 1 комнаты примерно 10000. Студенты могут указать любые оценки на основе этого приближения.\n",
        "House_prices = [10050,42300,50206,60000,105000,120000,22350]\n",
        "Num_rooms = [1,4,5,6,10,12,2]\n",
        "\n",
        "plt.scatter(Num_rooms,House_prices)\n",
        "plt.xlabel('Количество комнат')\n",
        "plt.ylabel('Цена дома в USD')\n",
        "plt.show();"
      ]
    },
    {
      "cell_type": "markdown",
      "metadata": {
        "id": "NEpLgHNd82Ql"
      },
      "source": [
        "## 2.2 Обработка отсутствующих значений в датафреймах "
      ]
    },
    {
      "cell_type": "markdown",
      "metadata": {
        "id": "jH3jeJJK82Qm"
      },
      "source": [
        "Вас снова просят обработать данные, содержащие результаты экзаменов студентов и часы их обучения. Данные хранятся в файле «Students_Score2.csv». Не все студенты сообщили о часах обучения, поэтому в данных отсутствуют некоторые значения. Удалите отсутствующие значения и сообщите об общем количестве учащихся, у которых отсутствуют данные."
      ]
    },
    {
      "cell_type": "markdown",
      "metadata": {
        "id": "Isj44dbT82Qm"
      },
      "source": [
        "Сначала загрузите данные как датафрейм df."
      ]
    },
    {
      "cell_type": "code",
      "execution_count": null,
      "metadata": {
        "id": "_Gub6qWW82Qm"
      },
      "outputs": [],
      "source": [
        "df = pd.read_csv('/drive/My Drive/Блокноты для Colab/ЭТАП 3 - Опыт БЛОКНОТЫ/[Рабочие файлы - Преподаватель] Модуль 16//data/Students_Score2.csv')"
      ]
    },
    {
      "cell_type": "markdown",
      "metadata": {
        "id": "axkxbu4w82Qm"
      },
      "source": [
        "Выведите заголовки и первые 5 строк df. Дополнительно выведите .info(). Это поможет нам понять имена столбцов, а также проверить отсутствие значений."
      ]
    },
    {
      "cell_type": "code",
      "execution_count": null,
      "metadata": {
        "colab": {
          "base_uri": "https://localhost:8080/"
        },
        "id": "-rKR4a7_82Qm",
        "outputId": "c46537e2-873a-4e25-81ae-b7a12d17c26d"
      },
      "outputs": [
        {
          "name": "stdout",
          "output_type": "stream",
          "text": [
            "   Student No.  Hours spent studying in a day  ...  English score  Science score\n",
            "0            1                            0.0  ...            0.0            0.0\n",
            "1            2                            3.0  ...           12.9           12.6\n",
            "2            3                            2.0  ...            8.6            8.4\n",
            "3            4                           13.0  ...           55.9           54.6\n",
            "4            5                            0.0  ...            0.0            0.0\n",
            "\n",
            "[5 rows x 5 columns]\n",
            "<class 'pandas.core.frame.DataFrame'>\n",
            "RangeIndex: 387 entries, 0 to 386\n",
            "Data columns (total 5 columns):\n",
            " #   Column                         Non-Null Count  Dtype  \n",
            "---  ------                         --------------  -----  \n",
            " 0   Student No.                    387 non-null    int64  \n",
            " 1   Hours spent studying in a day  382 non-null    float64\n",
            " 2   Mathematics score              383 non-null    float64\n",
            " 3   English score                  382 non-null    float64\n",
            " 4   Science score                  383 non-null    float64\n",
            "dtypes: float64(4), int64(1)\n",
            "memory usage: 15.2 KB\n",
            "None\n"
          ]
        }
      ],
      "source": [
        "print(df.head())\n",
        "print(df.info())"
      ]
    },
    {
      "cell_type": "markdown",
      "metadata": {
        "id": "BQDgq_aO82Qm"
      },
      "source": [
        "Из выведенной информации методом .info() заметили ли Вы разное количество строк для каждого столбца? Разное количество строк связано с наличием в них пропущенных значений."
      ]
    },
    {
      "cell_type": "markdown",
      "metadata": {
        "id": "NDS4Fr9q82Qm"
      },
      "source": [
        "Прежде чем мы сможем обработать недостающие значения, нам нужно сначала проверить ошибочные данные. Выведите .describe() и проверьте минимальные и максимальные значения."
      ]
    },
    {
      "cell_type": "code",
      "execution_count": null,
      "metadata": {
        "colab": {
          "base_uri": "https://localhost:8080/"
        },
        "id": "vqIwvbKi82Qm",
        "outputId": "23464477-bab0-408b-e7b7-6a1c5a39f52c"
      },
      "outputs": [
        {
          "name": "stdout",
          "output_type": "stream",
          "text": [
            "       Student No.  Hours spent studying in a day  ...  English score  Science score\n",
            "count   387.000000                     382.000000  ...     382.000000     383.000000\n",
            "mean    194.000000                       7.083770  ...      30.392670      29.641253\n",
            "std     111.861522                       4.473697  ...      19.258215      18.783876\n",
            "min       1.000000                       0.000000  ...       0.000000       0.000000\n",
            "25%      97.500000                       3.000000  ...      12.900000      12.600000\n",
            "50%     194.000000                       7.000000  ...      30.100000      29.400000\n",
            "75%     290.500000                      11.000000  ...      47.300000      46.200000\n",
            "max     387.000000                      15.000000  ...      64.500000      63.000000\n",
            "\n",
            "[8 rows x 5 columns]\n"
          ]
        }
      ],
      "source": [
        "print(df.describe())"
      ]
    },
    {
      "cell_type": "markdown",
      "metadata": {
        "id": "q3qcUv5j82Qn"
      },
      "source": [
        "Как мы видим, количество часов, потраченных на обучение, находится в пределах от 0 до 15, и все оценки также находятся в диапазоне от 0 до 100. Это показывает, что в наборе данных нет ошибок."
      ]
    },
    {
      "cell_type": "markdown",
      "metadata": {
        "id": "jxdF1nau82Qn"
      },
      "source": [
        "Теперь давайте удалим недостающие значения из набора данных. У Pandas есть хороший трюк, который позволяет нам делать это легко. Он называется .dropna(). Вы можете использовать его для удаления отсутствующих значений по строке или столбцу. Например, если Вы хотите удалить строки, в которых отсутствуют значения, вы можете вызвать df.dropna (axis = 0). Если вы хотите удалить столбцы, в которых отсутствуют значения, вы можете вызвать df.dropna(axis = 1). Вы можете найти дополнительную информацию о .dropna() [здесь (на английском)](https://pandas.pydata.org/pandas-docs/stable/generated/pandas.DataFrame.dropna.html) или здесь [(на русском)](https://devpractice.ru/pandas-work-with-nan-part4/)."
      ]
    },
    {
      "cell_type": "markdown",
      "metadata": {
        "id": "BTMQDU9S82Qn"
      },
      "source": [
        "Что касается оценок студентов, следует удалять отсутствующие значения по строкам или по столбцам?"
      ]
    },
    {
      "cell_type": "code",
      "execution_count": null,
      "metadata": {
        "id": "6lqhLg1E82Qn"
      },
      "outputs": [],
      "source": [
        "Мы должны удалить отсутствующие значения по строкам, поскольку каждая строка представляет учащегося."
      ]
    },
    {
      "cell_type": "markdown",
      "metadata": {
        "id": "yD8OBeqn82Qn"
      },
      "source": [
        "Теперь напишите код, который позволит Вам удалить недостающие значения ниже. Не забудьте назначить отдельную переменную новому датафрейму, чтобы не редактировать исходный датафрейм. Вы можете использовать df2 = df.dropna() для назначения нового датафрейма."
      ]
    },
    {
      "cell_type": "code",
      "execution_count": null,
      "metadata": {
        "id": "1YEOgMjr82Qn"
      },
      "outputs": [],
      "source": [
        "df2 = df.dropna(axis=0)"
      ]
    },
    {
      "cell_type": "markdown",
      "metadata": {
        "id": "H-Y1Znzp82Qn"
      },
      "source": [
        "Выведите .info () для нового датафрейма и обратите внимание на количество ненулевых значений для каждого столбца."
      ]
    },
    {
      "cell_type": "code",
      "execution_count": null,
      "metadata": {
        "colab": {
          "base_uri": "https://localhost:8080/"
        },
        "id": "D79vXUbn82Qn",
        "outputId": "182f2e73-b982-479b-c117-f24471952b4e"
      },
      "outputs": [
        {
          "name": "stdout",
          "output_type": "stream",
          "text": [
            "<class 'pandas.core.frame.DataFrame'>\n",
            "Int64Index: 373 entries, 0 to 386\n",
            "Data columns (total 5 columns):\n",
            " #   Column                         Non-Null Count  Dtype  \n",
            "---  ------                         --------------  -----  \n",
            " 0   Student No.                    373 non-null    int64  \n",
            " 1   Hours spent studying in a day  373 non-null    float64\n",
            " 2   Mathematics score              373 non-null    float64\n",
            " 3   English score                  373 non-null    float64\n",
            " 4   Science score                  373 non-null    float64\n",
            "dtypes: float64(4), int64(1)\n",
            "memory usage: 17.5 KB\n",
            "None\n"
          ]
        }
      ],
      "source": [
        "print(df2.info())"
      ]
    },
    {
      "cell_type": "markdown",
      "metadata": {
        "id": "v3DyyCjH82Qo"
      },
      "source": [
        "Видите, что количество строк теперь одинаково для всех столбцов? У скольких студентов отсутствовали значения?"
      ]
    },
    {
      "cell_type": "code",
      "execution_count": null,
      "metadata": {
        "id": "KM9dSOV_82Qo"
      },
      "outputs": [],
      "source": [
        "14 студентов с пропущенными значениями (387 - 373)."
      ]
    },
    {
      "cell_type": "markdown",
      "metadata": {
        "id": "FT5UYA3y82Qo"
      },
      "source": [
        "<font color=Blue>Бонус: хотя удалить отсутствующие значения легко, иногда мы этого не делаем, поскольку набор данных очень мал. Удаление значений приведет к уменьшению набора данных. Таким образом, мы также можем заполнить отсутствующие значения другими значениями. Мы можем заполнить недостающие значения средними или наиболее частыми значениями. Например, если значение оценки по математике отсутствует, мы можем найти среднее значение оценки всех учащихся по математике и заполнить отсутствующее значение этим значением. Попробуйте приведенный ниже код и посмотрите на результат!</font>"
      ]
    },
    {
      "cell_type": "code",
      "execution_count": null,
      "metadata": {
        "colab": {
          "base_uri": "https://localhost:8080/"
        },
        "id": "oC8I3qTH82Qo",
        "outputId": "d58c976f-fa5a-43f4-f735-f55012f072f1"
      },
      "outputs": [
        {
          "name": "stdout",
          "output_type": "stream",
          "text": [
            "Before filling in mising values..........\n",
            "<class 'pandas.core.frame.DataFrame'>\n",
            "RangeIndex: 387 entries, 0 to 386\n",
            "Data columns (total 5 columns):\n",
            " #   Column                         Non-Null Count  Dtype  \n",
            "---  ------                         --------------  -----  \n",
            " 0   Student No.                    387 non-null    int64  \n",
            " 1   Hours spent studying in a day  382 non-null    float64\n",
            " 2   Mathematics score              383 non-null    float64\n",
            " 3   English score                  382 non-null    float64\n",
            " 4   Science score                  383 non-null    float64\n",
            "dtypes: float64(4), int64(1)\n",
            "memory usage: 15.2 KB\n",
            "None\n",
            "After filling in mising values..........\n",
            "<class 'pandas.core.frame.DataFrame'>\n",
            "RangeIndex: 387 entries, 0 to 386\n",
            "Data columns (total 5 columns):\n",
            " #   Column                         Non-Null Count  Dtype  \n",
            "---  ------                         --------------  -----  \n",
            " 0   Student No.                    387 non-null    int64  \n",
            " 1   Hours spent studying in a day  382 non-null    float64\n",
            " 2   Mathematics score              387 non-null    float64\n",
            " 3   English score                  382 non-null    float64\n",
            " 4   Science score                  383 non-null    float64\n",
            "dtypes: float64(4), int64(1)\n",
            "memory usage: 15.2 KB\n",
            "None\n"
          ]
        }
      ],
      "source": [
        "#.Copy позволяет копировать весь фрейм данных, чтобы предотвратить изменение исходного фрейма данных.\n",
        "df3 = df.copy()\n",
        "print(\"Before filling in mising values..........\")\n",
        "print(df3.info())\n",
        "df3['Mathematics score'] = df3['Mathematics score'].fillna(df['Mathematics score'].mean())\n",
        "print(\"After filling in mising values..........\")\n",
        "print(df3.info())"
      ]
    },
    {
      "cell_type": "markdown",
      "metadata": {
        "id": "MUZleuit82Qo"
      },
      "source": [
        "Теперь вы должны увидеть, что пропущенные значения для оценки по математике были заполнены, и  имеется 387 ненулевых значений вместо 383 ненулевых значений, показанных ранее. Теперь попробуйте заполнить недостающие значения для остальных столбцов соответствующими средними значениями."
      ]
    },
    {
      "cell_type": "code",
      "execution_count": null,
      "metadata": {
        "colab": {
          "base_uri": "https://localhost:8080/"
        },
        "id": "OXL6rL-t82Qo",
        "outputId": "17ecebb2-d64c-470b-edb0-8d71df6d5374"
      },
      "outputs": [
        {
          "name": "stdout",
          "output_type": "stream",
          "text": [
            "<class 'pandas.core.frame.DataFrame'>\n",
            "RangeIndex: 387 entries, 0 to 386\n",
            "Data columns (total 5 columns):\n",
            " #   Column                         Non-Null Count  Dtype  \n",
            "---  ------                         --------------  -----  \n",
            " 0   Student No.                    387 non-null    int64  \n",
            " 1   Hours spent studying in a day  387 non-null    float64\n",
            " 2   Mathematics score              387 non-null    float64\n",
            " 3   English score                  387 non-null    float64\n",
            " 4   Science score                  387 non-null    float64\n",
            "dtypes: float64(4), int64(1)\n",
            "memory usage: 15.2 KB\n",
            "None\n"
          ]
        }
      ],
      "source": [
        "df3['English score'] = df3['English score'].fillna(df['English score'].mean())\n",
        "df3['Science score'] = df3['Science score'].fillna(df['Science score'].mean())\n",
        "df3['Hours spent studying in a day'] = df3['Hours spent studying in a day'].fillna(df['Hours spent studying in a day'].mean())\n",
        "print(df3.info())"
      ]
    }
  ],
  "metadata": {
    "colab": {
      "provenance": []
    },
    "kernelspec": {
      "display_name": "Python 3",
      "language": "python",
      "name": "python3"
    },
    "language_info": {
      "codemirror_mode": {
        "name": "ipython",
        "version": 3
      },
      "file_extension": ".py",
      "mimetype": "text/x-python",
      "name": "python",
      "nbconvert_exporter": "python",
      "pygments_lexer": "ipython3",
      "version": "3.11.1"
    },
    "vscode": {
      "interpreter": {
        "hash": "6c710a50793836ac5df752dfafeed775c10de46f34484724fea714f79abf6530"
      }
    }
  },
  "nbformat": 4,
  "nbformat_minor": 0
}
